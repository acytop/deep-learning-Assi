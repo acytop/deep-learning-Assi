{
 "cells": [
  {
   "cell_type": "code",
   "execution_count": 99,
   "id": "3f4ff112",
   "metadata": {},
   "outputs": [],
   "source": [
    "import numpy as np\n",
    "import pandas as pd\n",
    "from sklearn.metrics import accuracy_score, precision_score, recall_score, f1_score\n",
    "# Load the dataset\n",
    "data = pd.read_csv('diabetes.csv')\n",
    "\n",
    "# Replace zero values with NaN for specific columns\n",
    "zero = ['Glucose', 'BloodPressure', 'SkinThickness', 'Insulin', 'BMI']\n",
    "data[zero] = data[zero].replace(0, np.nan)\n",
    "\n",
    "# Fill NaN values with the mean of the column\n",
    "data.fillna(data.mean(), inplace=True)\n",
    "\n",
    "# Feature scaling\n",
    "from sklearn.preprocessing import StandardScaler\n",
    "scaler = StandardScaler()\n",
    "X = scaler.fit_transform(data.drop('Outcome', axis=1))\n",
    "\n",
    "\n",
    "# Encode labels\n",
    "y = data['Outcome'].replace({0: -1, 1: 1}).values\n"
   ]
  },
  {
   "cell_type": "code",
   "execution_count": 100,
   "id": "aef1d6d1",
   "metadata": {},
   "outputs": [],
   "source": [
    "# Split the data\n",
    "from sklearn.model_selection import train_test_split\n",
    "X_train, X_test, y_train, y_test = train_test_split(X, y, test_size=0.2, random_state=42)"
   ]
  },
  {
   "cell_type": "code",
   "execution_count": 101,
   "id": "c0c0661a",
   "metadata": {},
   "outputs": [],
   "source": [
    "# Perceptron class definition\n",
    "class Perceptron:\n",
    "    def __init__(self, learning_rate=0.01, n_epochs=1000):\n",
    "        self.lr = learning_rate\n",
    "        self.n_epochs = n_epochs\n",
    "    \n",
    "    def fit(self, X, y):\n",
    "        n_samples, n_features = X.shape\n",
    "        # Initialize weights and bias\n",
    "        self.w = np.zeros(n_features)\n",
    "        self.b = 0\n",
    "        \n",
    "        for epoch in range(self.n_epochs):\n",
    "            errors = 0\n",
    "            for idx, x_i in enumerate(X):\n",
    "                linear_output = np.dot(x_i, self.w) + self.b\n",
    "                y_predicted = np.sign(linear_output)\n",
    "                \n",
    "                # Update weights if there is a misclassification\n",
    "                if y_predicted != y[idx]:\n",
    "                    self.w += self.lr * y[idx] * x_i\n",
    "                    self.b += self.lr * y[idx]\n",
    "                    errors += 1\n",
    "\n",
    "    def predict(self, X):\n",
    "        linear_output = np.dot(X, self.w) + self.b\n",
    "        return np.sign(linear_output)"
   ]
  },
  {
   "cell_type": "code",
   "execution_count": 102,
   "id": "745b5a7e",
   "metadata": {},
   "outputs": [],
   "source": [
    "# Initialize and train the Perceptron\n",
    "perceptron = Perceptron(learning_rate=0.1, n_epochs=1000)\n",
    "perceptron.fit(X_train, y_train)\n",
    "\n",
    "# Make predictions on the test set\n",
    "y_pred = perceptron.predict(X_test)"
   ]
  },
  {
   "cell_type": "code",
   "execution_count": 103,
   "id": "bb593162",
   "metadata": {},
   "outputs": [
    {
     "name": "stdout",
     "output_type": "stream",
     "text": [
      "Accuracy: 76.62%\n",
      "Precision: 65.08%\n",
      "Recall: 74.55%\n",
      "F1 Score: 69.49%\n"
     ]
    }
   ],
   "source": [
    "# Replace -1 back to 0 for evaluation metrics\n",
    "y_test_evaluated = np.where(y_test == -1, 0, 1)\n",
    "y_pred_evaluated = np.where(y_pred == -1, 0, 1)\n",
    "\n",
    "accuracy = accuracy_score(y_test_evaluated, y_pred_evaluated)\n",
    "precision = precision_score(y_test_evaluated, y_pred_evaluated)\n",
    "recall = recall_score(y_test_evaluated, y_pred_evaluated)\n",
    "f1 = f1_score(y_test_evaluated, y_pred_evaluated)\n",
    "\n",
    "print(f\"Accuracy: {accuracy*100:.2f}%\")\n",
    "print(f\"Precision: {precision*100:.2f}%\")\n",
    "print(f\"Recall: {recall*100:.2f}%\")\n",
    "print(f\"F1 Score: {f1*100:.2f}%\")"
   ]
  },
  {
   "cell_type": "code",
   "execution_count": 104,
   "id": "542412e2",
   "metadata": {},
   "outputs": [],
   "source": [
    "# Initialize and train the Perceptron, try with different learning rare\n",
    "perceptron = Perceptron(learning_rate=0.01, n_epochs=1000)\n",
    "perceptron.fit(X_train, y_train)\n",
    "\n",
    "# Make predictions on the test set\n",
    "y_pred = perceptron.predict(X_test)"
   ]
  },
  {
   "cell_type": "code",
   "execution_count": 105,
   "id": "75a08af9",
   "metadata": {},
   "outputs": [
    {
     "name": "stdout",
     "output_type": "stream",
     "text": [
      "Accuracy: 76.62%\n",
      "Precision: 65.08%\n",
      "Recall: 74.55%\n",
      "F1 Score: 69.49%\n"
     ]
    }
   ],
   "source": [
    "# Replace -1 back to 0 for evaluation metrics\n",
    "y_test_evaluated = np.where(y_test == -1, 0, 1)\n",
    "y_pred_evaluated = np.where(y_pred == -1, 0, 1)\n",
    "\n",
    "accuracy = accuracy_score(y_test_evaluated, y_pred_evaluated)\n",
    "precision = precision_score(y_test_evaluated, y_pred_evaluated)\n",
    "recall = recall_score(y_test_evaluated, y_pred_evaluated)\n",
    "f1 = f1_score(y_test_evaluated, y_pred_evaluated)\n",
    "\n",
    "print(f\"Accuracy: {accuracy*100:.2f}%\")\n",
    "print(f\"Precision: {precision*100:.2f}%\")\n",
    "print(f\"Recall: {recall*100:.2f}%\")\n",
    "print(f\"F1 Score: {f1*100:.2f}%\")"
   ]
  },
  {
   "cell_type": "code",
   "execution_count": 106,
   "id": "6125b334",
   "metadata": {},
   "outputs": [
    {
     "name": "stdout",
     "output_type": "stream",
     "text": [
      "Accuracy with selected features: 64.94%\n",
      "Precision: 50.65%\n",
      "Recall: 70.91%\n",
      "F1 Score: 59.09%\n"
     ]
    }
   ],
   "source": [
    "# Select the most correlated features\n",
    "selected_features = ['Glucose', 'BMI', 'Age']\n",
    "X = data[selected_features].values\n",
    "\n",
    "# Feature scaling\n",
    "from sklearn.preprocessing import StandardScaler\n",
    "scaler = StandardScaler()\n",
    "X = scaler.fit_transform(X)\n",
    "\n",
    "# Encode labels\n",
    "y = data['Outcome'].replace({0: -1, 1: 1}).values\n",
    "\n",
    "# Split the data\n",
    "from sklearn.model_selection import train_test_split\n",
    "X_train_fs, X_test_fs, y_train_fs, y_test_fs = train_test_split(X, y, test_size=0.2, random_state=42)\n",
    "\n",
    "# Perceptron class definition (same as before)\n",
    "class Perceptron:\n",
    "    def __init__(self, learning_rate=0.01, n_epochs=1000):\n",
    "        self.lr = learning_rate\n",
    "        self.n_epochs = n_epochs\n",
    "        \n",
    "    def fit(self, X, y):\n",
    "        n_samples, n_features = X.shape\n",
    "        # Initialize weights and bias\n",
    "        self.w = np.zeros(n_features)\n",
    "        self.b = 0\n",
    "        \n",
    "        for epoch in range(self.n_epochs):\n",
    "            errors = 0\n",
    "            for idx, x_i in enumerate(X):\n",
    "                linear_output = np.dot(x_i, self.w) + self.b\n",
    "                y_predicted = np.sign(linear_output)\n",
    "                \n",
    "                # Update weights if there is a misclassification\n",
    "                if y_predicted != y[idx]:\n",
    "                    self.w += self.lr * y[idx] * x_i\n",
    "                    self.b += self.lr * y[idx]\n",
    "                    errors += 1         \n",
    "    def predict(self, X):\n",
    "        linear_output = np.dot(X, self.w) + self.b\n",
    "        return np.sign(linear_output)\n",
    "\n",
    "# Initialize and train the Perceptron with selected features\n",
    "perceptron_fs = Perceptron(learning_rate=0.01, n_epochs=1000)\n",
    "perceptron_fs.fit(X_train_fs, y_train_fs)\n",
    "\n",
    "# Make predictions on the test set\n",
    "y_pred_fs = perceptron_fs.predict(X_test_fs)\n",
    "\n",
    "# Replace -1 back to 0 for evaluation metrics\n",
    "y_test_evaluated_fs = np.where(y_test_fs == -1, 0, 1)\n",
    "y_pred_evaluated_fs = np.where(y_pred_fs == -1, 0, 1)\n",
    "\n",
    "accuracy_fs = accuracy_score(y_test_evaluated_fs, y_pred_evaluated_fs)\n",
    "precision_fs = precision_score(y_test_evaluated_fs, y_pred_evaluated_fs)\n",
    "recall_fs = recall_score(y_test_evaluated_fs, y_pred_evaluated_fs)\n",
    "f1_fs = f1_score(y_test_evaluated_fs, y_pred_evaluated_fs)\n",
    "\n",
    "print(f\"Accuracy with selected features: {accuracy_fs*100:.2f}%\")\n",
    "print(f\"Precision: {precision_fs*100:.2f}%\")\n",
    "print(f\"Recall: {recall_fs*100:.2f}%\")\n",
    "print(f\"F1 Score: {f1_fs*100:.2f}%\")"
   ]
  },
  {
   "cell_type": "code",
   "execution_count": null,
   "id": "f448ca89",
   "metadata": {},
   "outputs": [],
   "source": []
  }
 ],
 "metadata": {
  "kernelspec": {
   "display_name": "Python 3 (ipykernel)",
   "language": "python",
   "name": "python3"
  },
  "language_info": {
   "codemirror_mode": {
    "name": "ipython",
    "version": 3
   },
   "file_extension": ".py",
   "mimetype": "text/x-python",
   "name": "python",
   "nbconvert_exporter": "python",
   "pygments_lexer": "ipython3",
   "version": "3.11.5"
  }
 },
 "nbformat": 4,
 "nbformat_minor": 5
}
